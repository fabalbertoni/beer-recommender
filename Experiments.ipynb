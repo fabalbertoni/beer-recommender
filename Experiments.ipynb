{
 "cells": [
  {
   "cell_type": "code",
   "execution_count": 13,
   "id": "expanded-teach",
   "metadata": {},
   "outputs": [],
   "source": [
    "import pandas as pd\n",
    "import networkx as nx\n",
    "import matplotlib\n",
    "import pickle\n",
    "import numpy as np\n",
    "import io\n",
    "\n",
    "from IPython.display import display, HTML\n",
    "\n",
    "from utils import *"
   ]
  },
  {
   "cell_type": "code",
   "execution_count": 14,
   "id": "cathedral-darwin",
   "metadata": {},
   "outputs": [
    {
     "name": "stdout",
     "output_type": "stream",
     "text": [
      "The autoreload extension is already loaded. To reload it, use:\n",
      "  %reload_ext autoreload\n"
     ]
    }
   ],
   "source": [
    "%matplotlib inline\n",
    "%load_ext autoreload\n",
    "%autoreload 2\n",
    "\n",
    "dpi = 330\n",
    "matplotlib.rcParams['figure.dpi']= dpi"
   ]
  },
  {
   "cell_type": "code",
   "execution_count": 15,
   "id": "surgical-employer",
   "metadata": {},
   "outputs": [],
   "source": [
    "TRAIN_SPLIT = 0.8"
   ]
  },
  {
   "cell_type": "code",
   "execution_count": 16,
   "id": "dominican-logging",
   "metadata": {},
   "outputs": [],
   "source": [
    "data = pd.read_csv(\"~/Downloads/beer_reviews.csv\") "
   ]
  },
  {
   "cell_type": "code",
   "execution_count": 17,
   "id": "imposed-suggestion",
   "metadata": {},
   "outputs": [
    {
     "data": {
      "text/html": [
       "<div>\n",
       "<style scoped>\n",
       "    .dataframe tbody tr th:only-of-type {\n",
       "        vertical-align: middle;\n",
       "    }\n",
       "\n",
       "    .dataframe tbody tr th {\n",
       "        vertical-align: top;\n",
       "    }\n",
       "\n",
       "    .dataframe thead th {\n",
       "        text-align: right;\n",
       "    }\n",
       "</style>\n",
       "<table border=\"1\" class=\"dataframe\">\n",
       "  <thead>\n",
       "    <tr style=\"text-align: right;\">\n",
       "      <th></th>\n",
       "      <th>brewery_id</th>\n",
       "      <th>brewery_name</th>\n",
       "      <th>review_time</th>\n",
       "      <th>review_overall</th>\n",
       "      <th>review_aroma</th>\n",
       "      <th>review_appearance</th>\n",
       "      <th>review_profilename</th>\n",
       "      <th>beer_style</th>\n",
       "      <th>review_palate</th>\n",
       "      <th>review_taste</th>\n",
       "      <th>beer_name</th>\n",
       "      <th>beer_abv</th>\n",
       "      <th>beer_beerid</th>\n",
       "    </tr>\n",
       "  </thead>\n",
       "  <tbody>\n",
       "    <tr>\n",
       "      <th>0</th>\n",
       "      <td>10325</td>\n",
       "      <td>Vecchio Birraio</td>\n",
       "      <td>1234817823</td>\n",
       "      <td>1.5</td>\n",
       "      <td>2.0</td>\n",
       "      <td>2.5</td>\n",
       "      <td>stcules</td>\n",
       "      <td>Hefeweizen</td>\n",
       "      <td>1.5</td>\n",
       "      <td>1.5</td>\n",
       "      <td>Sausa Weizen</td>\n",
       "      <td>5.0</td>\n",
       "      <td>47986</td>\n",
       "    </tr>\n",
       "    <tr>\n",
       "      <th>1</th>\n",
       "      <td>10325</td>\n",
       "      <td>Vecchio Birraio</td>\n",
       "      <td>1235915097</td>\n",
       "      <td>3.0</td>\n",
       "      <td>2.5</td>\n",
       "      <td>3.0</td>\n",
       "      <td>stcules</td>\n",
       "      <td>English Strong Ale</td>\n",
       "      <td>3.0</td>\n",
       "      <td>3.0</td>\n",
       "      <td>Red Moon</td>\n",
       "      <td>6.2</td>\n",
       "      <td>48213</td>\n",
       "    </tr>\n",
       "    <tr>\n",
       "      <th>2</th>\n",
       "      <td>10325</td>\n",
       "      <td>Vecchio Birraio</td>\n",
       "      <td>1235916604</td>\n",
       "      <td>3.0</td>\n",
       "      <td>2.5</td>\n",
       "      <td>3.0</td>\n",
       "      <td>stcules</td>\n",
       "      <td>Foreign / Export Stout</td>\n",
       "      <td>3.0</td>\n",
       "      <td>3.0</td>\n",
       "      <td>Black Horse Black Beer</td>\n",
       "      <td>6.5</td>\n",
       "      <td>48215</td>\n",
       "    </tr>\n",
       "    <tr>\n",
       "      <th>3</th>\n",
       "      <td>10325</td>\n",
       "      <td>Vecchio Birraio</td>\n",
       "      <td>1234725145</td>\n",
       "      <td>3.0</td>\n",
       "      <td>3.0</td>\n",
       "      <td>3.5</td>\n",
       "      <td>stcules</td>\n",
       "      <td>German Pilsener</td>\n",
       "      <td>2.5</td>\n",
       "      <td>3.0</td>\n",
       "      <td>Sausa Pils</td>\n",
       "      <td>5.0</td>\n",
       "      <td>47969</td>\n",
       "    </tr>\n",
       "    <tr>\n",
       "      <th>4</th>\n",
       "      <td>1075</td>\n",
       "      <td>Caldera Brewing Company</td>\n",
       "      <td>1293735206</td>\n",
       "      <td>4.0</td>\n",
       "      <td>4.5</td>\n",
       "      <td>4.0</td>\n",
       "      <td>johnmichaelsen</td>\n",
       "      <td>American Double / Imperial IPA</td>\n",
       "      <td>4.0</td>\n",
       "      <td>4.5</td>\n",
       "      <td>Cauldron DIPA</td>\n",
       "      <td>7.7</td>\n",
       "      <td>64883</td>\n",
       "    </tr>\n",
       "  </tbody>\n",
       "</table>\n",
       "</div>"
      ],
      "text/plain": [
       "   brewery_id             brewery_name  review_time  review_overall  \\\n",
       "0       10325          Vecchio Birraio   1234817823             1.5   \n",
       "1       10325          Vecchio Birraio   1235915097             3.0   \n",
       "2       10325          Vecchio Birraio   1235916604             3.0   \n",
       "3       10325          Vecchio Birraio   1234725145             3.0   \n",
       "4        1075  Caldera Brewing Company   1293735206             4.0   \n",
       "\n",
       "   review_aroma  review_appearance review_profilename  \\\n",
       "0           2.0                2.5            stcules   \n",
       "1           2.5                3.0            stcules   \n",
       "2           2.5                3.0            stcules   \n",
       "3           3.0                3.5            stcules   \n",
       "4           4.5                4.0     johnmichaelsen   \n",
       "\n",
       "                       beer_style  review_palate  review_taste  \\\n",
       "0                      Hefeweizen            1.5           1.5   \n",
       "1              English Strong Ale            3.0           3.0   \n",
       "2          Foreign / Export Stout            3.0           3.0   \n",
       "3                 German Pilsener            2.5           3.0   \n",
       "4  American Double / Imperial IPA            4.0           4.5   \n",
       "\n",
       "                beer_name  beer_abv  beer_beerid  \n",
       "0            Sausa Weizen       5.0        47986  \n",
       "1                Red Moon       6.2        48213  \n",
       "2  Black Horse Black Beer       6.5        48215  \n",
       "3              Sausa Pils       5.0        47969  \n",
       "4           Cauldron DIPA       7.7        64883  "
      ]
     },
     "execution_count": 17,
     "metadata": {},
     "output_type": "execute_result"
    }
   ],
   "source": [
    "data.head()"
   ]
  },
  {
   "cell_type": "code",
   "execution_count": 18,
   "id": "looking-jacob",
   "metadata": {},
   "outputs": [],
   "source": [
    "count_df = data.groupby('beer_name').size().reset_index(name='count')"
   ]
  },
  {
   "cell_type": "code",
   "execution_count": 19,
   "id": "divided-mason",
   "metadata": {},
   "outputs": [],
   "source": [
    "size = len(data)"
   ]
  },
  {
   "cell_type": "code",
   "execution_count": 20,
   "id": "future-satellite",
   "metadata": {},
   "outputs": [],
   "source": [
    "train_data = data[:int(size * TRAIN_SPLIT)]"
   ]
  },
  {
   "cell_type": "code",
   "execution_count": 21,
   "id": "determined-operations",
   "metadata": {},
   "outputs": [],
   "source": [
    "graph = build_graph(train_data, 20)"
   ]
  },
  {
   "cell_type": "code",
   "execution_count": 22,
   "id": "varying-nudist",
   "metadata": {},
   "outputs": [
    {
     "name": "stdout",
     "output_type": "stream",
     "text": [
      "Número de nodos: 36856\n",
      "Número de aristas: 2315895\n"
     ]
    }
   ],
   "source": [
    "print(\"Número de nodos: \"+str(graph.number_of_nodes()))\n",
    "print(\"Número de aristas: \"+str(graph.number_of_edges()))"
   ]
  },
  {
   "cell_type": "code",
   "execution_count": 23,
   "id": "drawn-laugh",
   "metadata": {},
   "outputs": [],
   "source": [
    "index_data = data.set_index(['review_profilename', 'beer_beerid'])"
   ]
  },
  {
   "cell_type": "code",
   "execution_count": 10,
   "id": "sharp-teach",
   "metadata": {},
   "outputs": [
    {
     "data": {
      "text/plain": [
       "1586614"
      ]
     },
     "execution_count": 10,
     "metadata": {},
     "output_type": "execute_result"
    }
   ],
   "source": [
    "len(index_data)"
   ]
  },
  {
   "cell_type": "code",
   "execution_count": 11,
   "id": "sweet-forge",
   "metadata": {},
   "outputs": [],
   "source": [
    "index_data = index_data[~index_data.index.duplicated(keep='last')]"
   ]
  },
  {
   "cell_type": "code",
   "execution_count": null,
   "id": "daily-diabetes",
   "metadata": {},
   "outputs": [],
   "source": [
    "\n"
   ]
  },
  {
   "cell_type": "code",
   "execution_count": 12,
   "id": "fitting-desert",
   "metadata": {},
   "outputs": [],
   "source": [
    "index_data = index_data.drop(['brewery_name'], axis=1)\n",
    "index_data = index_data.drop(['beer_name'], axis=1)\n",
    "index_data = index_data.drop(['review_time'], axis=1)\n",
    "# We already use this as weight\n",
    "index_data = index_data.drop(['review_overall'], axis=1)"
   ]
  },
  {
   "cell_type": "code",
   "execution_count": 13,
   "id": "successful-blanket",
   "metadata": {},
   "outputs": [],
   "source": [
    "edge_attrs = index_data.to_dict(orient='index')"
   ]
  },
  {
   "cell_type": "code",
   "execution_count": 14,
   "id": "powered-footwear",
   "metadata": {},
   "outputs": [],
   "source": [
    "nx.set_edge_attributes(graph, edge_attrs)"
   ]
  },
  {
   "cell_type": "code",
   "execution_count": 15,
   "id": "perceived-patent",
   "metadata": {},
   "outputs": [
    {
     "data": {
      "text/plain": [
       "{'weight': 3.0,\n",
       " 'review_aroma': 2.0,\n",
       " 'review_appearance': 3.0,\n",
       " 'review_palate': 2.5,\n",
       " 'review_taste': 2.5,\n",
       " 'brewery_id': 163,\n",
       " 'beer_style': 'Light Lager',\n",
       " 'beer_abv': 3.5}"
      ]
     },
     "execution_count": 15,
     "metadata": {},
     "output_type": "execute_result"
    }
   ],
   "source": [
    "graph.edges()['fodeeoz', 436]"
   ]
  },
  {
   "cell_type": "code",
   "execution_count": 16,
   "id": "major-accessory",
   "metadata": {},
   "outputs": [
    {
     "data": {
      "text/html": [
       "<div>\n",
       "<style scoped>\n",
       "    .dataframe tbody tr th:only-of-type {\n",
       "        vertical-align: middle;\n",
       "    }\n",
       "\n",
       "    .dataframe tbody tr th {\n",
       "        vertical-align: top;\n",
       "    }\n",
       "\n",
       "    .dataframe thead th {\n",
       "        text-align: right;\n",
       "    }\n",
       "</style>\n",
       "<table border=\"1\" class=\"dataframe\">\n",
       "  <thead>\n",
       "    <tr style=\"text-align: right;\">\n",
       "      <th></th>\n",
       "      <th></th>\n",
       "      <th>brewery_id</th>\n",
       "      <th>review_aroma</th>\n",
       "      <th>review_appearance</th>\n",
       "      <th>beer_style</th>\n",
       "      <th>review_palate</th>\n",
       "      <th>review_taste</th>\n",
       "      <th>beer_abv</th>\n",
       "    </tr>\n",
       "    <tr>\n",
       "      <th>review_profilename</th>\n",
       "      <th>beer_beerid</th>\n",
       "      <th></th>\n",
       "      <th></th>\n",
       "      <th></th>\n",
       "      <th></th>\n",
       "      <th></th>\n",
       "      <th></th>\n",
       "      <th></th>\n",
       "    </tr>\n",
       "  </thead>\n",
       "  <tbody>\n",
       "    <tr>\n",
       "      <th rowspan=\"4\" valign=\"top\">stcules</th>\n",
       "      <th>47986</th>\n",
       "      <td>10325</td>\n",
       "      <td>2.0</td>\n",
       "      <td>2.5</td>\n",
       "      <td>Hefeweizen</td>\n",
       "      <td>1.5</td>\n",
       "      <td>1.5</td>\n",
       "      <td>5.0</td>\n",
       "    </tr>\n",
       "    <tr>\n",
       "      <th>48213</th>\n",
       "      <td>10325</td>\n",
       "      <td>2.5</td>\n",
       "      <td>3.0</td>\n",
       "      <td>English Strong Ale</td>\n",
       "      <td>3.0</td>\n",
       "      <td>3.0</td>\n",
       "      <td>6.2</td>\n",
       "    </tr>\n",
       "    <tr>\n",
       "      <th>48215</th>\n",
       "      <td>10325</td>\n",
       "      <td>2.5</td>\n",
       "      <td>3.0</td>\n",
       "      <td>Foreign / Export Stout</td>\n",
       "      <td>3.0</td>\n",
       "      <td>3.0</td>\n",
       "      <td>6.5</td>\n",
       "    </tr>\n",
       "    <tr>\n",
       "      <th>47969</th>\n",
       "      <td>10325</td>\n",
       "      <td>3.0</td>\n",
       "      <td>3.5</td>\n",
       "      <td>German Pilsener</td>\n",
       "      <td>2.5</td>\n",
       "      <td>3.0</td>\n",
       "      <td>5.0</td>\n",
       "    </tr>\n",
       "    <tr>\n",
       "      <th>johnmichaelsen</th>\n",
       "      <th>64883</th>\n",
       "      <td>1075</td>\n",
       "      <td>4.5</td>\n",
       "      <td>4.0</td>\n",
       "      <td>American Double / Imperial IPA</td>\n",
       "      <td>4.0</td>\n",
       "      <td>4.5</td>\n",
       "      <td>7.7</td>\n",
       "    </tr>\n",
       "  </tbody>\n",
       "</table>\n",
       "</div>"
      ],
      "text/plain": [
       "                                brewery_id  review_aroma  review_appearance  \\\n",
       "review_profilename beer_beerid                                                \n",
       "stcules            47986             10325           2.0                2.5   \n",
       "                   48213             10325           2.5                3.0   \n",
       "                   48215             10325           2.5                3.0   \n",
       "                   47969             10325           3.0                3.5   \n",
       "johnmichaelsen     64883              1075           4.5                4.0   \n",
       "\n",
       "                                                    beer_style  review_palate  \\\n",
       "review_profilename beer_beerid                                                  \n",
       "stcules            47986                            Hefeweizen            1.5   \n",
       "                   48213                    English Strong Ale            3.0   \n",
       "                   48215                Foreign / Export Stout            3.0   \n",
       "                   47969                       German Pilsener            2.5   \n",
       "johnmichaelsen     64883        American Double / Imperial IPA            4.0   \n",
       "\n",
       "                                review_taste  beer_abv  \n",
       "review_profilename beer_beerid                          \n",
       "stcules            47986                 1.5       5.0  \n",
       "                   48213                 3.0       6.2  \n",
       "                   48215                 3.0       6.5  \n",
       "                   47969                 3.0       5.0  \n",
       "johnmichaelsen     64883                 4.5       7.7  "
      ]
     },
     "execution_count": 16,
     "metadata": {},
     "output_type": "execute_result"
    }
   ],
   "source": [
    "index_data.head()"
   ]
  },
  {
   "cell_type": "code",
   "execution_count": null,
   "id": "three-popularity",
   "metadata": {},
   "outputs": [],
   "source": []
  },
  {
   "cell_type": "code",
   "execution_count": null,
   "id": "commercial-convenience",
   "metadata": {},
   "outputs": [],
   "source": []
  },
  {
   "cell_type": "code",
   "execution_count": 17,
   "id": "iraqi-petersburg",
   "metadata": {},
   "outputs": [],
   "source": [
    "beer_attrs = data[['beer_beerid', 'beer_style', 'brewery_id']]\n",
    "beer_attrs = beer_attrs.set_index(['beer_beerid'])\n",
    "beer_attrs = beer_attrs[~beer_attrs.index.duplicated(keep='last')]"
   ]
  },
  {
   "cell_type": "code",
   "execution_count": 18,
   "id": "south-cover",
   "metadata": {},
   "outputs": [
    {
     "data": {
      "text/html": [
       "<div>\n",
       "<style scoped>\n",
       "    .dataframe tbody tr th:only-of-type {\n",
       "        vertical-align: middle;\n",
       "    }\n",
       "\n",
       "    .dataframe tbody tr th {\n",
       "        vertical-align: top;\n",
       "    }\n",
       "\n",
       "    .dataframe thead th {\n",
       "        text-align: right;\n",
       "    }\n",
       "</style>\n",
       "<table border=\"1\" class=\"dataframe\">\n",
       "  <thead>\n",
       "    <tr style=\"text-align: right;\">\n",
       "      <th></th>\n",
       "      <th>beer_style</th>\n",
       "      <th>brewery_id</th>\n",
       "    </tr>\n",
       "    <tr>\n",
       "      <th>beer_beerid</th>\n",
       "      <th></th>\n",
       "      <th></th>\n",
       "    </tr>\n",
       "  </thead>\n",
       "  <tbody>\n",
       "    <tr>\n",
       "      <th>47986</th>\n",
       "      <td>Hefeweizen</td>\n",
       "      <td>10325</td>\n",
       "    </tr>\n",
       "    <tr>\n",
       "      <th>48213</th>\n",
       "      <td>English Strong Ale</td>\n",
       "      <td>10325</td>\n",
       "    </tr>\n",
       "    <tr>\n",
       "      <th>48215</th>\n",
       "      <td>Foreign / Export Stout</td>\n",
       "      <td>10325</td>\n",
       "    </tr>\n",
       "    <tr>\n",
       "      <th>47969</th>\n",
       "      <td>German Pilsener</td>\n",
       "      <td>10325</td>\n",
       "    </tr>\n",
       "    <tr>\n",
       "      <th>64883</th>\n",
       "      <td>American Double / Imperial IPA</td>\n",
       "      <td>1075</td>\n",
       "    </tr>\n",
       "  </tbody>\n",
       "</table>\n",
       "</div>"
      ],
      "text/plain": [
       "                                 beer_style  brewery_id\n",
       "beer_beerid                                            \n",
       "47986                            Hefeweizen       10325\n",
       "48213                    English Strong Ale       10325\n",
       "48215                Foreign / Export Stout       10325\n",
       "47969                       German Pilsener       10325\n",
       "64883        American Double / Imperial IPA        1075"
      ]
     },
     "execution_count": 18,
     "metadata": {},
     "output_type": "execute_result"
    }
   ],
   "source": [
    "beer_attrs.head()"
   ]
  },
  {
   "cell_type": "code",
   "execution_count": 19,
   "id": "dominican-spine",
   "metadata": {},
   "outputs": [
    {
     "data": {
      "text/plain": [
       "66055"
      ]
     },
     "execution_count": 19,
     "metadata": {},
     "output_type": "execute_result"
    }
   ],
   "source": [
    "len(beer_attrs)"
   ]
  },
  {
   "cell_type": "code",
   "execution_count": 20,
   "id": "lasting-compression",
   "metadata": {},
   "outputs": [],
   "source": [
    "beer_attrs = beer_attrs.to_dict(orient='index')"
   ]
  },
  {
   "cell_type": "code",
   "execution_count": 21,
   "id": "unnecessary-command",
   "metadata": {},
   "outputs": [],
   "source": [
    "nx.set_node_attributes(graph, beer_attrs)"
   ]
  },
  {
   "cell_type": "code",
   "execution_count": 22,
   "id": "regular-activity",
   "metadata": {},
   "outputs": [
    {
     "data": {
      "text/plain": [
       "{'beer_style': 'Light Lager', 'brewery_id': 163, 'beer_abv': 3.5}"
      ]
     },
     "execution_count": 22,
     "metadata": {},
     "output_type": "execute_result"
    }
   ],
   "source": [
    "graph.nodes()[436]"
   ]
  },
  {
   "cell_type": "code",
   "execution_count": null,
   "id": "three-obligation",
   "metadata": {},
   "outputs": [],
   "source": []
  },
  {
   "cell_type": "code",
   "execution_count": 23,
   "id": "automated-chemistry",
   "metadata": {},
   "outputs": [],
   "source": [
    "index_data = index_data.drop(['brewery_id'], axis=1)\n",
    "index_data = index_data.drop(['beer_style'], axis=1)"
   ]
  },
  {
   "cell_type": "code",
   "execution_count": null,
   "id": "placed-hometown",
   "metadata": {},
   "outputs": [],
   "source": []
  },
  {
   "cell_type": "code",
   "execution_count": null,
   "id": "discrete-objective",
   "metadata": {},
   "outputs": [],
   "source": []
  },
  {
   "cell_type": "code",
   "execution_count": null,
   "id": "eligible-surge",
   "metadata": {},
   "outputs": [],
   "source": []
  },
  {
   "cell_type": "code",
   "execution_count": 24,
   "id": "undefined-nebraska",
   "metadata": {},
   "outputs": [
    {
     "name": "stdout",
     "output_type": "stream",
     "text": [
      "Found 14806 duplicates.\n",
      "Attrs for edge \"fodeeoz\", 436:\n",
      "{'weight': 3.0, 'review_aroma': 2.0, 'review_appearance': 3.0, 'review_palate': 2.5, 'review_taste': 2.5}\n",
      "Example attrs for node 436:\n",
      "{'beer_style': 'Light Lager', 'brewery_id': 163, 'beer_abv': 3.5}\n",
      "Adding 1682942 edges from beer similarity based on styles.\n",
      "Adding 175666 edges from beer similarity based on breweries.\n"
     ]
    }
   ],
   "source": [
    "graph = build_graph(data, 20, debug=True)"
   ]
  },
  {
   "cell_type": "code",
   "execution_count": null,
   "id": "realistic-yield",
   "metadata": {},
   "outputs": [],
   "source": []
  },
  {
   "cell_type": "code",
   "execution_count": null,
   "id": "mighty-threshold",
   "metadata": {},
   "outputs": [],
   "source": []
  },
  {
   "cell_type": "code",
   "execution_count": null,
   "id": "lightweight-status",
   "metadata": {},
   "outputs": [],
   "source": []
  },
  {
   "cell_type": "code",
   "execution_count": null,
   "id": "central-huntington",
   "metadata": {},
   "outputs": [],
   "source": []
  },
  {
   "cell_type": "markdown",
   "id": "regular-family",
   "metadata": {},
   "source": [
    "history_u_lists: diccionario item-> usuarios que lo compraron\n",
    "history_ur_lists: diccionario item-> ratings (del usuario que lo compro) (igual largo que el anterior)\n",
    "\n",
    "history_v_lists: diccionario usuario-> items que compro\n",
    "history_vr_lists: diccionario usuario-> ratin para el item que compro (igual largo que el anterior)\n",
    "\n",
    "train_u: lista de ids de items para train\n",
    "train_v: lista de ids de usuarios para train\n",
    "train_r: lista de ratings para train\n",
    "Todo esto tiene que coincidir por indice (HORRIBLE). Los largos de los 3 coinciden. Estan codificando (de la peor forma) tripletas usuario-item-rating. \n",
    "\n",
    "social_adj_lists: diccionario usuario: set de usuarios conectados\n",
    "\n",
    "ratings_list: diccionario con rating posible-> indice - {2.0: 0, 1.0: 1, 3.0: 2, 4.0: 3, 2.5: 4, 3.5: 5, 1.5: 6, 0.5: 7}\n",
    "\n"
   ]
  },
  {
   "cell_type": "code",
   "execution_count": 257,
   "id": "focused-tender",
   "metadata": {},
   "outputs": [],
   "source": [
    "dir_data = './GraphRec-WWW19/data/toy_dataset'\n",
    "\n",
    "path_data = dir_data + \".pickle\"\n",
    "data_file = open(path_data, 'rb')\n",
    "history_u_lists, history_ur_lists, history_v_lists, history_vr_lists, train_u, train_v, train_r, test_u, test_v, test_r, social_adj_lists, ratings_list = pickle.load(\n",
    "    data_file)"
   ]
  },
  {
   "cell_type": "code",
   "execution_count": 164,
   "id": "liberal-principal",
   "metadata": {},
   "outputs": [
    {
     "name": "stderr",
     "output_type": "stream",
     "text": [
      "/Users/fabrizio.albertoni/Envs/beer-rec/lib/python3.7/site-packages/ipykernel_launcher.py:1: VisibleDeprecationWarning: Creating an ndarray from ragged nested sequences (which is a list-or-tuple of lists-or-tuples-or ndarrays with different lengths or shapes) is deprecated. If you meant to do this, you must specify 'dtype=object' when creating the ndarray.\n",
      "  \"\"\"Entry point for launching an IPython kernel.\n"
     ]
    }
   ],
   "source": [
    "split_data = np.array([[user, item, list(graph.get_edge_data(user, item).values())] for user, item in graph.edges() if isinstance(user, str) and isinstance(item, int)])"
   ]
  },
  {
   "cell_type": "code",
   "execution_count": 167,
   "id": "compact-nudist",
   "metadata": {},
   "outputs": [],
   "source": [
    "np.random.shuffle(split_data)"
   ]
  },
  {
   "cell_type": "code",
   "execution_count": 172,
   "id": "atomic-agriculture",
   "metadata": {},
   "outputs": [],
   "source": [
    "train_u, train_v, train_r = np.split(split_data, 3, axis=1)"
   ]
  },
  {
   "cell_type": "code",
   "execution_count": 187,
   "id": "capital-revolution",
   "metadata": {},
   "outputs": [
    {
     "data": {
      "text/plain": [
       "14091"
      ]
     },
     "execution_count": 187,
     "metadata": {},
     "output_type": "execute_result"
    }
   ],
   "source": [
    "len(train_u)"
   ]
  },
  {
   "cell_type": "code",
   "execution_count": null,
   "id": "decreased-services",
   "metadata": {},
   "outputs": [],
   "source": [
    "history_u_lists, history_ur_lists, history_v_lists, history_vr_lists, train_u, train_v, train_r, test_u, test_v, test_r, item_adj_lists = decompose_graph(graph)"
   ]
  },
  {
   "cell_type": "code",
   "execution_count": 25,
   "id": "fallen-hartford",
   "metadata": {},
   "outputs": [
    {
     "name": "stdout",
     "output_type": "stream",
     "text": [
      "1\n",
      "2\n",
      "2.1\n",
      "3\n",
      "4\n",
      "5\n"
     ]
    },
    {
     "name": "stderr",
     "output_type": "stream",
     "text": [
      "/Users/fabrizio.albertoni/Projects/beer-recommender/utils.py:166: VisibleDeprecationWarning: Creating an ndarray from ragged nested sequences (which is a list-or-tuple of lists-or-tuples-or ndarrays with different lengths or shapes) is deprecated. If you meant to do this, you must specify 'dtype=object' when creating the ndarray.\n",
      "  for user, item in graph.edges()\n"
     ]
    },
    {
     "name": "stdout",
     "output_type": "stream",
     "text": [
      "6\n"
     ]
    },
    {
     "name": "stderr",
     "output_type": "stream",
     "text": [
      "/Users/fabrizio.albertoni/Envs/beer-rec/lib/python3.7/site-packages/sklearn/utils/validation.py:63: DataConversionWarning: A column-vector y was passed when a 1d array was expected. Please change the shape of y to (n_samples, ), for example using ravel().\n",
      "  return f(*args, **kwargs)\n"
     ]
    },
    {
     "name": "stdout",
     "output_type": "stream",
     "text": [
      "Done transforming. \n",
      "7\n"
     ]
    }
   ],
   "source": [
    "data = decompose_graph(graph)"
   ]
  },
  {
   "cell_type": "code",
   "execution_count": 27,
   "id": "confirmed-reminder",
   "metadata": {},
   "outputs": [],
   "source": [
    "with open('data.pkl', 'wb') as handle:\n",
    "    pickle.dump(data, handle, protocol=pickle.HIGHEST_PROTOCOL)"
   ]
  },
  {
   "cell_type": "code",
   "execution_count": null,
   "id": "separate-allergy",
   "metadata": {},
   "outputs": [],
   "source": []
  },
  {
   "cell_type": "code",
   "execution_count": null,
   "id": "determined-interest",
   "metadata": {},
   "outputs": [],
   "source": []
  },
  {
   "cell_type": "code",
   "execution_count": 264,
   "id": "binary-broadway",
   "metadata": {},
   "outputs": [
    {
     "data": {
      "text/plain": [
       "1941"
      ]
     },
     "execution_count": 264,
     "metadata": {},
     "output_type": "execute_result"
    }
   ],
   "source": [
    "len(history_v_lists)"
   ]
  },
  {
   "cell_type": "code",
   "execution_count": 268,
   "id": "dedicated-aging",
   "metadata": {},
   "outputs": [
    {
     "data": {
      "text/plain": [
       "1940"
      ]
     },
     "execution_count": 268,
     "metadata": {},
     "output_type": "execute_result"
    }
   ],
   "source": [
    "max(train_v)"
   ]
  },
  {
   "cell_type": "code",
   "execution_count": null,
   "id": "compliant-blank",
   "metadata": {},
   "outputs": [],
   "source": [
    "# TODO El codigo asume que los ids son consecutivos\n",
    "# Use this? https://networkx.org/documentation/networkx-1.10/reference/generated/networkx.relabel.convert_node_labels_to_integers.html#networkx.relabel.convert_node_labels_to_integers"
   ]
  },
  {
   "cell_type": "code",
   "execution_count": null,
   "id": "wicked-poster",
   "metadata": {},
   "outputs": [],
   "source": []
  },
  {
   "cell_type": "code",
   "execution_count": 43,
   "id": "acquired-birthday",
   "metadata": {},
   "outputs": [],
   "source": [
    "data = history_v_lists, history_vr_lists, history_u_lists, history_ur_lists, train_v, train_u, train_r, test_v, test_u, test_r, item_adj_lists"
   ]
  },
  {
   "cell_type": "code",
   "execution_count": 31,
   "id": "attached-magazine",
   "metadata": {},
   "outputs": [],
   "source": [
    "from run_GraphRec_example import run"
   ]
  },
  {
   "cell_type": "code",
   "execution_count": 32,
   "id": "noted-pressure",
   "metadata": {},
   "outputs": [],
   "source": [
    "with open('data.pkl', 'rb') as handle:\n",
    "    data = pickle.load(handle)"
   ]
  },
  {
   "cell_type": "code",
   "execution_count": null,
   "id": "looking-differential",
   "metadata": {},
   "outputs": [
    {
     "name": "stdout",
     "output_type": "stream",
     "text": [
      "31883\n",
      "9186\n",
      "[1,     0] loss: 0.147, The best rmse/mae: 9999.000000 / 9999.000000\n",
      "[1,   100] loss: 11.790, The best rmse/mae: 9999.000000 / 9999.000000\n",
      "[1,   200] loss: 6.588, The best rmse/mae: 9999.000000 / 9999.000000\n",
      "[1,   300] loss: 3.213, The best rmse/mae: 9999.000000 / 9999.000000\n",
      "[1,   400] loss: 2.077, The best rmse/mae: 9999.000000 / 9999.000000\n",
      "[1,   500] loss: 1.624, The best rmse/mae: 9999.000000 / 9999.000000\n"
     ]
    }
   ],
   "source": [
    "run(data)"
   ]
  },
  {
   "cell_type": "code",
   "execution_count": null,
   "id": "ranking-environment",
   "metadata": {},
   "outputs": [],
   "source": []
  },
  {
   "cell_type": "code",
   "execution_count": null,
   "id": "talented-warrant",
   "metadata": {},
   "outputs": [],
   "source": []
  },
  {
   "cell_type": "code",
   "execution_count": 194,
   "id": "arranged-baptist",
   "metadata": {},
   "outputs": [],
   "source": []
  },
  {
   "cell_type": "code",
   "execution_count": 288,
   "id": "documented-peter",
   "metadata": {},
   "outputs": [],
   "source": []
  }
 ],
 "metadata": {
  "kernelspec": {
   "display_name": "beer-rec",
   "language": "python",
   "name": "python3"
  },
  "language_info": {
   "codemirror_mode": {
    "name": "ipython",
    "version": 3
   },
   "file_extension": ".py",
   "mimetype": "text/x-python",
   "name": "python",
   "nbconvert_exporter": "python",
   "pygments_lexer": "ipython3",
   "version": "3.7.7"
  }
 },
 "nbformat": 4,
 "nbformat_minor": 5
}
